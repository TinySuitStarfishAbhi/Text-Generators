{
 "cells": [
  {
   "cell_type": "code",
   "execution_count": 1,
   "metadata": {},
   "outputs": [],
   "source": [
    "import numpy as np\n",
    "import tensorflow as tf\n",
    "tf.enable_eager_execution()"
   ]
  },
  {
   "cell_type": "code",
   "execution_count": 2,
   "metadata": {},
   "outputs": [],
   "source": [
    "from tensorflow.keras.preprocessing.sequence import pad_sequences\n",
    "from tensorflow.keras.layers import Embedding, LSTM, Dense, Bidirectional\n",
    "from tensorflow.keras.preprocessing.text import Tokenizer\n",
    "from tensorflow.keras.models import Sequential\n",
    "from tensorflow.keras.optimizers import Adam"
   ]
  },
  {
   "cell_type": "code",
   "execution_count": 3,
   "metadata": {},
   "outputs": [],
   "source": [
    "tokenizer = Tokenizer()\n",
    "data = open('Collections.txt').read()\n",
    "corpus = data.lower().split(\"\\n\")"
   ]
  },
  {
   "cell_type": "code",
   "execution_count": 4,
   "metadata": {},
   "outputs": [
    {
     "name": "stdout",
     "output_type": "stream",
     "text": [
      "1378\n"
     ]
    }
   ],
   "source": [
    "tokenizer.fit_on_texts(corpus)\n",
    "total_words = len(tokenizer.word_index) +1\n",
    "\n",
    "#print(tokenizer.word_index)\n",
    "print(total_words)"
   ]
  },
  {
   "cell_type": "code",
   "execution_count": 5,
   "metadata": {},
   "outputs": [],
   "source": [
    "input_sequences = []\n",
    "for line in corpus:\n",
    "    token_list = tokenizer.texts_to_sequences([line])[0]\n",
    "    for i in range(1, len(token_list)):\n",
    "        n_gram_sequence = token_list[:i+1]\n",
    "        input_sequences.append(n_gram_sequence)\n",
    "\n",
    "# pad sequences \n",
    "max_sequence_len = max([len(x) for x in input_sequences])\n",
    "input_sequences = np.array(pad_sequences(input_sequences, maxlen=max_sequence_len, padding='pre'))\n",
    "\n",
    "# create predictors and label\n",
    "xs, labels = input_sequences[:,:-1],input_sequences[:,-1]\n",
    "ys = tf.keras.utils.to_categorical(labels, num_classes=total_words)\n"
   ]
  },
  {
   "cell_type": "code",
   "execution_count": 6,
   "metadata": {},
   "outputs": [
    {
     "name": "stdout",
     "output_type": "stream",
     "text": [
      "333\n",
      "7\n",
      "12\n",
      "53\n",
      "16\n",
      "151\n",
      "27\n"
     ]
    }
   ],
   "source": [
    "print(tokenizer.word_index['drink'])\n",
    "print(tokenizer.word_index['to'])\n",
    "print(tokenizer.word_index['me'])\n",
    "print(tokenizer.word_index['only'])\n",
    "print(tokenizer.word_index['with'])\n",
    "print(tokenizer.word_index['thine'])\n",
    "print(tokenizer.word_index['eyes'])"
   ]
  },
  {
   "cell_type": "code",
   "execution_count": 7,
   "metadata": {},
   "outputs": [
    {
     "name": "stdout",
     "output_type": "stream",
     "text": [
      "[ 0  0  0  0  0  0  0  0  0  0  0  0  0  0  0  8  4 13 45]\n",
      "[0. 0. 0. ... 0. 0. 0.]\n"
     ]
    }
   ],
   "source": [
    "print(xs[5])\n",
    "print(ys[5])"
   ]
  },
  {
   "cell_type": "code",
   "execution_count": 10,
   "metadata": {},
   "outputs": [
    {
     "name": "stdout",
     "output_type": "stream",
     "text": [
      "Train on 4722 samples\n",
      "Epoch 1/20\n",
      "WARNING:tensorflow:From F:\\AI Projects\\venv\\lib\\site-packages\\tensorflow_core\\python\\ops\\math_grad.py:1424: where (from tensorflow.python.ops.array_ops) is deprecated and will be removed in a future version.\n",
      "Instructions for updating:\n",
      "Use tf.where in 2.0, which has the same broadcast rule as np.where\n",
      "4722/4722 [==============================] - 24s 5ms/sample - loss: 6.2931 - acc: 0.0479\n",
      "Epoch 2/20\n",
      "4722/4722 [==============================] - 15s 3ms/sample - loss: 5.3003 - acc: 0.1294\n",
      "Epoch 3/20\n",
      "4722/4722 [==============================] - 15s 3ms/sample - loss: 4.2466 - acc: 0.2107\n",
      "Epoch 4/20\n",
      "4722/4722 [==============================] - 14s 3ms/sample - loss: 3.1617 - acc: 0.3227\n",
      "Epoch 5/20\n",
      "4722/4722 [==============================] - 15s 3ms/sample - loss: 2.2219 - acc: 0.4744\n",
      "Epoch 6/20\n",
      "4722/4722 [==============================] - 17s 4ms/sample - loss: 1.5187 - acc: 0.6404\n",
      "Epoch 7/20\n",
      "4722/4722 [==============================] - 17s 4ms/sample - loss: 1.1168 - acc: 0.7361\n",
      "Epoch 8/20\n",
      "4722/4722 [==============================] - 16s 3ms/sample - loss: 0.9584 - acc: 0.7819\n",
      "Epoch 9/20\n",
      "4722/4722 [==============================] - 16s 3ms/sample - loss: 0.8337 - acc: 0.8075\n",
      "Epoch 10/20\n",
      "4722/4722 [==============================] - 16s 3ms/sample - loss: 0.7237 - acc: 0.8270\n",
      "Epoch 11/20\n",
      "4722/4722 [==============================] - 17s 4ms/sample - loss: 0.6736 - acc: 0.8338\n",
      "Epoch 12/20\n",
      "4722/4722 [==============================] - 15s 3ms/sample - loss: 0.6465 - acc: 0.83595s - loss: 0.5992\n",
      "Epoch 13/20\n",
      "4722/4722 [==============================] - 15s 3ms/sample - loss: 0.6183 - acc: 0.8374\n",
      "Epoch 14/20\n",
      "4722/4722 [==============================] - 15s 3ms/sample - loss: 0.6002 - acc: 0.84032s\n",
      "Epoch 15/20\n",
      "4722/4722 [==============================] - 15s 3ms/sample - loss: 0.5919 - acc: 0.8405\n",
      "Epoch 16/20\n",
      "4722/4722 [==============================] - 16s 3ms/sample - loss: 0.5913 - acc: 0.8367\n",
      "Epoch 17/20\n",
      "4722/4722 [==============================] - 15s 3ms/sample - loss: 0.5774 - acc: 0.8422\n",
      "Epoch 18/20\n",
      "4722/4722 [==============================] - 17s 4ms/sample - loss: 0.5754 - acc: 0.8391\n",
      "Epoch 19/20\n",
      "4722/4722 [==============================] - 16s 3ms/sample - loss: 0.5718 - acc: 0.8397\n",
      "Epoch 20/20\n",
      "4722/4722 [==============================] - 15s 3ms/sample - loss: 0.5679 - acc: 0.83716s -\n",
      "<tensorflow.python.keras.engine.sequential.Sequential object at 0x000002065F2F7EC8>\n"
     ]
    }
   ],
   "source": [
    "model = Sequential()\n",
    "model.add(Embedding(total_words, 100, input_length=max_sequence_len-1))\n",
    "model.add(Bidirectional(LSTM(150)))\n",
    "model.add(Dense(total_words, activation='softmax'))\n",
    "adam = Adam(lr=0.01)\n",
    "model.compile(loss='categorical_crossentropy', optimizer=adam, metrics=['accuracy'])\n",
    "#earlystop = EarlyStopping(monitor='val_loss', min_delta=0, patience=5, verbose=0, mode='auto')\n",
    "history = model.fit(xs, ys, epochs=20, verbose=1)\n",
    "print(model)"
   ]
  },
  {
   "cell_type": "code",
   "execution_count": 10,
   "metadata": {},
   "outputs": [],
   "source": [
    "import matplotlib.pyplot as plt\n",
    "\n",
    "\n",
    "def plot_graphs(history, string):\n",
    "  plt.plot(history.history[string])\n",
    "  plt.xlabel(\"Epochs\")\n",
    "  plt.ylabel(string)\n",
    "  plt.show()"
   ]
  },
  {
   "cell_type": "code",
   "execution_count": 11,
   "metadata": {},
   "outputs": [
    {
     "data": {
      "image/png": "[encoded data removed]",
      "text/plain": [
       "<Figure size 432x288 with 1 Axes>"
      ]
     },
     "metadata": {
      "needs_background": "light"
     },
     "output_type": "display_data"
    }
   ],
   "source": [
    "plot_graphs(history, 'acc')"
   ]
  },
  {
   "cell_type": "code",
   "execution_count": 11,
   "metadata": {},
   "outputs": [
    {
     "name": "stdout",
     "output_type": "stream",
     "text": [
      "Love is when you’re feeling top of the pops in the light of quitratue and my heart and is a clue is today and grace winter slay me my own out of a injury would harvest the story of the tree called compare which to like a puma in the barrens of a savage thought which compare to loving me blue\n"
     ]
    }
   ],
   "source": [
    "seed_text = \"Love\"\n",
    "next_words = 60\n",
    "  \n",
    "for _ in range(next_words):\n",
    "    token_list = tokenizer.texts_to_sequences([seed_text])[0]\n",
    "    token_list = pad_sequences([token_list], maxlen=max_sequence_len-1, padding='pre')\n",
    "    predicted = model.predict_classes(token_list, verbose=0)\n",
    "    output_word = \"\"\n",
    "    for word, index in tokenizer.word_index.items():\n",
    "        if index == predicted:\n",
    "            output_word = word\n",
    "            break\n",
    "    seed_text += \" \" + output_word\n",
    "print(seed_text)"
   ]
  },
  {
   "cell_type": "code",
   "execution_count": null,
   "metadata": {},
   "outputs": [],
   "source": []
  }
 ],
 "metadata": {
  "kernelspec": {
   "display_name": "Python 3",
   "language": "python",
   "name": "python3"
  },
  "language_info": {
   "codemirror_mode": {
    "name": "ipython",
    "version": 3
   },
   "file_extension": ".py",
   "mimetype": "text/x-python",
   "name": "python",
   "nbconvert_exporter": "python",
   "pygments_lexer": "ipython3",
   "version": "3.7.9"
  }
 },
 "nbformat": 4,
 "nbformat_minor": 2
}
